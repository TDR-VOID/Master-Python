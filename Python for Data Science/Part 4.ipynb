{
 "cells": [
  {
   "cell_type": "markdown",
   "metadata": {},
   "source": [
    "# **Python**\n",
    "\n",
    "### Part 4"
   ]
  },
  {
   "cell_type": "markdown",
   "metadata": {},
   "source": [
    "## **Classes** in Python"
   ]
  },
  {
   "cell_type": "markdown",
   "metadata": {},
   "source": [
    "Classes are a cornerstone of object-oriented programming (OOP) in Python. They allow for the creation of custom data types that encapsulate data and behavior together.\n",
    "\n",
    "**Definition:** A class is defined using the class keyword followed by the class name and a colon. It serves as a blueprint for creating objects (instances).\n",
    "\n",
    "**Attributes and Methods:**\n",
    "\n",
    "- **Attributes:** Variables that belong to a class or instance.\n",
    "- **Methods:** Functions defined within a class that describe the behaviors of an object.\n",
    "\n",
    "**Constructor (`__init__ `method):** A special method called when an object is instantiated. It initializes the object's attributes.\n",
    "\n",
    "**Instance:** An individual object of a class created using the class name followed by parentheses\n",
    "\n",
    "**Class Attributes vs Instance Attributes:**\n",
    "- **Class Attributes:** Shared by all instances of the class.\n",
    "- **Instance Attributes:** Unique to each instance.\n",
    "\n",
    "**Inheritance:** A way to form new classes using classes that have already been defined. The new class (child class) inherits attributes and methods from the existing class (parent class)."
   ]
  },
  {
   "cell_type": "code",
   "execution_count": 25,
   "metadata": {},
   "outputs": [],
   "source": [
    "# Defining a class\n",
    "class Animal:\n",
    "\n",
    "    # Constructor (initialiser)\n",
    "    def __init__(self, name, age, weight):\n",
    "        # creating attributes\n",
    "        self.name = name\n",
    "        self.age = age\n",
    "        self.weight = weight\n",
    "\n",
    "    # Creating a method to convert the weight into kg\n",
    "    def weight_in_kg(self):\n",
    "        return round(self.weight / 2.205,4)\n",
    "    \n",
    "    # Creating a method calculate next clinic appointment\n",
    "    def next_clinic_appointment(self, years=2): # add a additional keyword argument      \n",
    "        return self.age + years"
   ]
  },
  {
   "cell_type": "code",
   "execution_count": 26,
   "metadata": {},
   "outputs": [
    {
     "name": "stdout",
     "output_type": "stream",
     "text": [
      "Lion\n",
      "5\n"
     ]
    }
   ],
   "source": [
    "# Creating an object\n",
    "animal = Animal(\"Lion\", 5, 10.5)\n",
    "\n",
    "# Accessing attributes\n",
    "print(animal.name)\n",
    "print(animal.age)"
   ]
  },
  {
   "cell_type": "code",
   "execution_count": 27,
   "metadata": {},
   "outputs": [
    {
     "data": {
      "text/plain": [
       "4.7619"
      ]
     },
     "execution_count": 27,
     "metadata": {},
     "output_type": "execute_result"
    }
   ],
   "source": [
    "# Accessing method\n",
    "animal.weight_in_kg()"
   ]
  },
  {
   "cell_type": "code",
   "execution_count": 32,
   "metadata": {},
   "outputs": [
    {
     "data": {
      "text/plain": [
       "10"
      ]
     },
     "execution_count": 32,
     "metadata": {},
     "output_type": "execute_result"
    }
   ],
   "source": [
    "# Accessing method\n",
    "animal.next_clinic_appointment()\n",
    "animal.next_clinic_appointment(5)\n",
    "animal.next_clinic_appointment(years=5)"
   ]
  },
  {
   "cell_type": "markdown",
   "metadata": {},
   "source": [
    "### Inheritance in Python"
   ]
  },
  {
   "cell_type": "code",
   "execution_count": null,
   "metadata": {},
   "outputs": [],
   "source": []
  },
  {
   "cell_type": "code",
   "execution_count": null,
   "metadata": {},
   "outputs": [],
   "source": []
  },
  {
   "cell_type": "code",
   "execution_count": null,
   "metadata": {},
   "outputs": [],
   "source": []
  },
  {
   "cell_type": "code",
   "execution_count": null,
   "metadata": {},
   "outputs": [],
   "source": []
  }
 ],
 "metadata": {
  "kernelspec": {
   "display_name": "Python 3",
   "language": "python",
   "name": "python3"
  },
  "language_info": {
   "codemirror_mode": {
    "name": "ipython",
    "version": 3
   },
   "file_extension": ".py",
   "mimetype": "text/x-python",
   "name": "python",
   "nbconvert_exporter": "python",
   "pygments_lexer": "ipython3",
   "version": "3.12.3"
  }
 },
 "nbformat": 4,
 "nbformat_minor": 2
}
