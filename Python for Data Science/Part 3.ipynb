{
 "cells": [
  {
   "cell_type": "markdown",
   "metadata": {},
   "source": [
    "# **Python**\n",
    "\n",
    "### Part 3"
   ]
  },
  {
   "cell_type": "markdown",
   "metadata": {},
   "source": [
    "## Functions in Python"
   ]
  },
  {
   "cell_type": "markdown",
   "metadata": {},
   "source": [
    "Functions are reusable blocks of code that perform a specific task. They help in organizing code, reducing redundancy, and making programs more modular and easier to understand. Python provides several built-in functions, but you can also define your own custom functions.\n",
    "\n",
    "Defining a Function:\n",
    "To define a function in Python, use the def keyword followed by the function name, parentheses (), and a colon :. Inside the parentheses, you can define parameters that the function can accept. The function body is indented and contains the code to be executed."
   ]
  },
  {
   "cell_type": "code",
   "execution_count": 2,
   "metadata": {},
   "outputs": [],
   "source": [
    "# Defining a function\n",
    "\n",
    "def function_name(parameters):\n",
    "    \"\"\"Docstring describing the function.\"\"\"\n",
    "    # Function body\n",
    "    # Code to be executed\n",
    "    return   # Optional\n"
   ]
  },
  {
   "cell_type": "code",
   "execution_count": 15,
   "metadata": {},
   "outputs": [],
   "source": [
    "# Example of a function with parameters\n",
    "\n",
    "def square(x):\n",
    "    \"\"\"Function to return the square of a number.\"\"\"\n",
    "    return x * x\n"
   ]
  },
  {
   "cell_type": "code",
   "execution_count": 16,
   "metadata": {},
   "outputs": [
    {
     "name": "stdout",
     "output_type": "stream",
     "text": [
      "square =  16\n"
     ]
    }
   ],
   "source": [
    "# calling the function\n",
    "print(\"square = \",square(4)) "
   ]
  },
  {
   "cell_type": "code",
   "execution_count": 14,
   "metadata": {},
   "outputs": [
    {
     "name": "stdout",
     "output_type": "stream",
     "text": [
      "perimeter =  30\n"
     ]
    }
   ],
   "source": [
    "def calculate_perimeter(length, breadth):\n",
    "    \"\"\"Function to calculate the perimeter of a rectangle.\"\"\"\n",
    "    perimeter = 2 * (length + breadth)\n",
    "    return perimeter\n",
    "\n",
    "print(\"perimeter = \",calculate_perimeter(10, 5))\n",
    "\n",
    "\n",
    "\"\"\"\"\n",
    "Without return statement the output will be \"None\"\n",
    "\"\"\";"
   ]
  },
  {
   "cell_type": "code",
   "execution_count": 5,
   "metadata": {},
   "outputs": [
    {
     "name": "stdout",
     "output_type": "stream",
     "text": [
      "Python function with no parameters\n"
     ]
    }
   ],
   "source": [
    "# Example of a function without parameters\n",
    "\n",
    "def python_function():\n",
    "    print(\"Python function with no parameters\")\n",
    "    return\n",
    "\n",
    "python_function()"
   ]
  },
  {
   "cell_type": "code",
   "execution_count": null,
   "metadata": {},
   "outputs": [],
   "source": []
  }
 ],
 "metadata": {
  "kernelspec": {
   "display_name": "Python 3",
   "language": "python",
   "name": "python3"
  },
  "language_info": {
   "codemirror_mode": {
    "name": "ipython",
    "version": 3
   },
   "file_extension": ".py",
   "mimetype": "text/x-python",
   "name": "python",
   "nbconvert_exporter": "python",
   "pygments_lexer": "ipython3",
   "version": "3.12.3"
  }
 },
 "nbformat": 4,
 "nbformat_minor": 2
}
