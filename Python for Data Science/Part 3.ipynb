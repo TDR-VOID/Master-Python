{
 "cells": [
  {
   "cell_type": "markdown",
   "metadata": {},
   "source": [
    "# **Python**\n",
    "\n",
    "### Part 3"
   ]
  },
  {
   "cell_type": "markdown",
   "metadata": {},
   "source": [
    "## Functions in Python"
   ]
  },
  {
   "cell_type": "markdown",
   "metadata": {},
   "source": [
    "Functions are reusable blocks of code that perform a specific task. They help in organizing code, reducing redundancy, and making programs more modular and easier to understand. Python provides several built-in functions, but you can also define your own custom functions.\n",
    "\n",
    "Defining a Function:\n",
    "To define a function in Python, use the def keyword followed by the function name, parentheses (), and a colon :. Inside the parentheses, you can define parameters that the function can accept. The function body is indented and contains the code to be executed."
   ]
  },
  {
   "cell_type": "code",
   "execution_count": 2,
   "metadata": {},
   "outputs": [],
   "source": [
    "# Defining a function\n",
    "\n",
    "def function_name(parameters):\n",
    "    \"\"\"Docstring describing the function.\"\"\"\n",
    "    # Function body\n",
    "    # Code to be executed\n",
    "    return   # Optional\n"
   ]
  },
  {
   "cell_type": "code",
   "execution_count": 15,
   "metadata": {},
   "outputs": [],
   "source": [
    "# Example of a function with parameters\n",
    "\n",
    "def square(x):\n",
    "    \"\"\"Function to return the square of a number.\"\"\"\n",
    "    return x * x\n"
   ]
  },
  {
   "cell_type": "code",
   "execution_count": 16,
   "metadata": {},
   "outputs": [
    {
     "name": "stdout",
     "output_type": "stream",
     "text": [
      "square =  16\n"
     ]
    }
   ],
   "source": [
    "# calling the function\n",
    "print(\"square = \",square(4)) "
   ]
  },
  {
   "cell_type": "code",
   "execution_count": 14,
   "metadata": {},
   "outputs": [
    {
     "name": "stdout",
     "output_type": "stream",
     "text": [
      "perimeter =  30\n"
     ]
    }
   ],
   "source": [
    "# Example of a function with multiple position arguments\n",
    "\n",
    "def calculate_perimeter(length, breadth):\n",
    "    \"\"\"Function to calculate the perimeter of a rectangle.\"\"\"\n",
    "    perimeter = 2 * (length + breadth)\n",
    "    return perimeter\n",
    "\n",
    "print(\"perimeter = \",calculate_perimeter(10, 5))\n",
    "\n",
    "\n",
    "\"\"\"\"\n",
    "Without return statement the output will be \"None\"\n",
    "\"\"\";"
   ]
  },
  {
   "cell_type": "markdown",
   "metadata": {},
   "source": [
    "The **return** statement in a function exits the function and sends back a value to the caller. If no return statement is provided, the function returns **None** by default."
   ]
  },
  {
   "cell_type": "code",
   "execution_count": 5,
   "metadata": {},
   "outputs": [
    {
     "name": "stdout",
     "output_type": "stream",
     "text": [
      "Python function with no parameters\n"
     ]
    }
   ],
   "source": [
    "# Example of a function without parameters\n",
    "\n",
    "def python_function():\n",
    "    print(\"Python function with no parameters\")\n",
    "    return\n",
    "\n",
    "python_function()"
   ]
  },
  {
   "cell_type": "code",
   "execution_count": 19,
   "metadata": {},
   "outputs": [
    {
     "name": "stdout",
     "output_type": "stream",
     "text": [
      "0\n",
      "1\n",
      "4\n",
      "9\n",
      "16\n",
      "25\n",
      "36\n",
      "49\n",
      "64\n",
      "81\n"
     ]
    }
   ],
   "source": [
    "# Function inside a loop\n",
    "\n",
    "def square_number(x):\n",
    "    return x * x\n",
    "\n",
    "for number in range(10):\n",
    "    square_value = square_number(number)\n",
    "    print(square_value)\n"
   ]
  },
  {
   "cell_type": "markdown",
   "metadata": {},
   "source": [
    "The **enumerate function** in Python adds a counter to an iterable and returns it as an enumerate object. This allows you to loop over the iterable and have an automatic counter."
   ]
  },
  {
   "cell_type": "code",
   "execution_count": 31,
   "metadata": {},
   "outputs": [
    {
     "name": "stdout",
     "output_type": "stream",
     "text": [
      "0 a\n",
      "1 b\n",
      "2 c\n"
     ]
    }
   ],
   "source": [
    "# Enumerate function example\n",
    "for index, value in enumerate(['a', 'b', 'c']):\n",
    "    print(index, value)"
   ]
  },
  {
   "cell_type": "code",
   "execution_count": 30,
   "metadata": {},
   "outputs": [
    {
     "name": "stdout",
     "output_type": "stream",
     "text": [
      "['spiderman', 'batman', 'superman', 'wonderwoman', 'ironman', 'hulk', 'batman']\n",
      "['batman', 'hulk', 'ironman', 'spiderman', 'superman', 'wonderwoman']\n",
      "0 I'm batman and my real name is bruce wayne\n",
      "1 I'm hulk and my real name is bruce banner\n",
      "2 I'm ironman and my real name is tony stark\n",
      "3 I'm spiderman and my real name is peter parker\n",
      "4 I'm superman and my real name is clark kent\n",
      "5 I'm wonderwoman and my real name is diana prince\n"
     ]
    }
   ],
   "source": [
    "super_hero = [\"spiderman\", \"batman\", \"superman\", \"wonderwoman\", \"ironman\", \"hulk\",\"batman\"]\n",
    "super_hero_real_name = [\"bruce wayne\",\"bruce banner\", \"tony stark\",\"peter parker\", \"clark kent\", \"diana prince\"]\n",
    "print(super_hero)\n",
    "\n",
    "# Remove duplicates from the list\n",
    "super_hero = list(set(super_hero))\n",
    "super_hero = sorted(super_hero)  \n",
    "print(super_hero)\n",
    "\n",
    "# idx and enumarate in python\n",
    "for idx, name in enumerate(super_hero):\n",
    "    real_name = super_hero_real_name[idx]\n",
    "    print(idx, \"I'm {} and my real name is {}\".format(name,real_name))"
   ]
  },
  {
   "cell_type": "code",
   "execution_count": null,
   "metadata": {},
   "outputs": [],
   "source": []
  }
 ],
 "metadata": {
  "kernelspec": {
   "display_name": "Python 3",
   "language": "python",
   "name": "python3"
  },
  "language_info": {
   "codemirror_mode": {
    "name": "ipython",
    "version": 3
   },
   "file_extension": ".py",
   "mimetype": "text/x-python",
   "name": "python",
   "nbconvert_exporter": "python",
   "pygments_lexer": "ipython3",
   "version": "3.12.3"
  }
 },
 "nbformat": 4,
 "nbformat_minor": 2
}
