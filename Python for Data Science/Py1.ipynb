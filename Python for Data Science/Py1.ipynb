{
 "cells": [
  {
   "cell_type": "markdown",
   "id": "d3fc1349",
   "metadata": {},
   "source": [
    "# Hello World Python"
   ]
  },
  {
   "cell_type": "code",
   "execution_count": null,
   "id": "23f0f1ee",
   "metadata": {},
   "outputs": [
    {
     "name": "stdout",
     "output_type": "stream",
     "text": [
      "Hello World\n"
     ]
    }
   ],
   "source": [
    "print (\"Hello World\") # Print Function"
   ]
  },
  {
   "cell_type": "code",
   "execution_count": null,
   "id": "73bd0e54",
   "metadata": {},
   "outputs": [
    {
     "name": "stdout",
     "output_type": "stream",
     "text": [
      "123\n"
     ]
    }
   ],
   "source": [
    "# Print an integer\n",
    "print (123)"
   ]
  },
  {
   "cell_type": "markdown",
   "id": "273de1fd",
   "metadata": {},
   "source": [
    "Accessing documentation for a function using ??\n",
    "You can use ?? to display the documentation for any function in Python."
   ]
  },
  {
   "cell_type": "code",
   "execution_count": 22,
   "id": "c184d65f",
   "metadata": {},
   "outputs": [
    {
     "name": "stdout",
     "output_type": "stream",
     "text": [
      "\u001b[1;31mSignature:\u001b[0m \u001b[0mprint\u001b[0m\u001b[1;33m(\u001b[0m\u001b[1;33m*\u001b[0m\u001b[0margs\u001b[0m\u001b[1;33m,\u001b[0m \u001b[0msep\u001b[0m\u001b[1;33m=\u001b[0m\u001b[1;34m' '\u001b[0m\u001b[1;33m,\u001b[0m \u001b[0mend\u001b[0m\u001b[1;33m=\u001b[0m\u001b[1;34m'\\n'\u001b[0m\u001b[1;33m,\u001b[0m \u001b[0mfile\u001b[0m\u001b[1;33m=\u001b[0m\u001b[1;32mNone\u001b[0m\u001b[1;33m,\u001b[0m \u001b[0mflush\u001b[0m\u001b[1;33m=\u001b[0m\u001b[1;32mFalse\u001b[0m\u001b[1;33m)\u001b[0m\u001b[1;33m\u001b[0m\u001b[1;33m\u001b[0m\u001b[0m\n",
      "\u001b[1;31mDocstring:\u001b[0m\n",
      "Prints the values to a stream, or to sys.stdout by default.\n",
      "\n",
      "sep\n",
      "  string inserted between values, default a space.\n",
      "end\n",
      "  string appended after the last value, default a newline.\n",
      "file\n",
      "  a file-like object (stream); defaults to the current sys.stdout.\n",
      "flush\n",
      "  whether to forcibly flush the stream.\n",
      "\u001b[1;31mType:\u001b[0m      builtin_function_or_method"
     ]
    }
   ],
   "source": [
    "# Accessing documentation for the print function\n",
    "print??"
   ]
  },
  {
   "cell_type": "markdown",
   "id": "27882d76",
   "metadata": {},
   "source": [
    "# Variables, Data Types, Lists and Dictionaries"
   ]
  },
  {
   "cell_type": "markdown",
   "id": "8ab80851",
   "metadata": {},
   "source": [
    "CRUD stand for create read update and detelte. Understanding these is crucial when learning any programming language."
   ]
  },
  {
   "cell_type": "markdown",
   "id": "f1f87a5b",
   "metadata": {},
   "source": [
    "### Variables"
   ]
  },
  {
   "cell_type": "markdown",
   "id": "411bb8d3",
   "metadata": {},
   "source": [
    "A variable is a name that you assign to a value, allowing storage, retrieval, and manipulation of data. Variables act as containers for data and can hold different types of information such as numbers, strings, lists, and more.\n",
    "\n",
    "Variables make your code more readable and maintainable by allowing you to use meaningful names to represent data."
   ]
  },
  {
   "cell_type": "code",
   "execution_count": null,
   "id": "7e37418f",
   "metadata": {},
   "outputs": [],
   "source": [
    "# Example of declaring and printing a variable\n",
    "\n",
    "Var1 = \"Test Variable\""
   ]
  },
  {
   "cell_type": "code",
   "execution_count": null,
   "id": "0bf1d9ad",
   "metadata": {},
   "outputs": [
    {
     "data": {
      "text/plain": [
       "'Test Variable'"
      ]
     },
     "execution_count": 7,
     "metadata": {},
     "output_type": "execute_result"
    }
   ],
   "source": [
    "#Check whaether the variable is defined correctly\n",
    "Var1"
   ]
  },
  {
   "cell_type": "code",
   "execution_count": null,
   "id": "4171168b",
   "metadata": {},
   "outputs": [
    {
     "name": "stdout",
     "output_type": "stream",
     "text": [
      "Test Variable\n"
     ]
    }
   ],
   "source": [
    "# Print the variable using print function\n",
    "print(Var1)"
   ]
  },
  {
   "cell_type": "code",
   "execution_count": null,
   "id": "d47bee1f",
   "metadata": {},
   "outputs": [
    {
     "data": {
      "text/plain": [
       "str"
      ]
     },
     "execution_count": 9,
     "metadata": {},
     "output_type": "execute_result"
    }
   ],
   "source": [
    "# Checking the type of the variable\n",
    "type(Var1)"
   ]
  },
  {
   "cell_type": "code",
   "execution_count": null,
   "id": "a145c8db",
   "metadata": {},
   "outputs": [],
   "source": [
    "# Reassigning a new value to the existing variable\n",
    "Var1 = 12"
   ]
  },
  {
   "cell_type": "markdown",
   "id": "f5ca9941",
   "metadata": {},
   "source": [
    "### Fundamental data types in Python ###\n",
    "\n",
    "**Numerical Data Types:**\n",
    "\n",
    "1. Integer (int): Represents whole numbers without any decimal point. \n",
    "Examples: 5, -10, 1000.\n",
    "\n",
    "2. Float (float): Represents real numbers with a decimal point. \n",
    "Examples: 8.14, -0.5, 2.0.\n",
    "\n",
    "3. Complex (complex): Represents numbers with a real and imaginary part.\n",
    "Examples: 3 + 4j, 1.5 - 2.5j.\n",
    "    \n",
    "**Non-Numerical Data Types:**\n",
    "\n",
    "1. String (str): Represents a sequence of characters enclosed within single quotes (') or double quotes (\"). \n",
    "Examples: 'hello', \"python\", '123'.\n",
    "\n",
    "2. Boolean (bool): Represents a logical value indicating either True or False. \n",
    "Examples: True, False.  \n",
    "\n",
    "3. List (list): Represents an ordered collection of elements.\n",
    "Example: list_variable = [1, 2, 3, 4.5, 5.55, \"A\", \"B\", \"C\"]\n",
    "\n",
    "4. Tuple (tuple): Represents an ordered, immutable collection of elements.\n",
    "Example: tuple_variable = (1, 2, 3, 4.5, 5.55, \"A\", \"B\", \"C\")\n",
    "\n",
    "5. Set (set): Represents an unordered collection of unique elements.\n",
    "Example: set_variable = {1, 2, 3, 4.5, 5.55, \"A\", \"B\", \"C\"}\n",
    "\n",
    "6. Dictionary (dict): Represents a collection of key-value pairs.\n",
    "Example: dict_variable = {\"key1\": \"value1\", \"key2\": \"value2\", \"key3\": \"value3\"}"
   ]
  },
  {
   "cell_type": "markdown",
   "id": "ff82ddc1",
   "metadata": {},
   "source": [
    "### Data Types"
   ]
  },
  {
   "cell_type": "markdown",
   "id": "76e3667d",
   "metadata": {},
   "source": [
    "Fundamental data types in Python\n",
    "\n",
    "Numerical Data Types:\n",
    "\n",
    "- **Integer (int):** Represents whole numbers without any decimal point."
   ]
  },
  {
   "cell_type": "code",
   "execution_count": null,
   "id": "6f7d5923",
   "metadata": {},
   "outputs": [
    {
     "name": "stdout",
     "output_type": "stream",
     "text": [
      "10\n"
     ]
    },
    {
     "data": {
      "text/plain": [
       "int"
      ]
     },
     "execution_count": 1,
     "metadata": {},
     "output_type": "execute_result"
    }
   ],
   "source": [
    "# Declaring varible for Integer\n",
    "Integer_variable = 10\n",
    "\n",
    "print(Integer_variable)\n",
    "type(Integer_variable)"
   ]
  },
  {
   "cell_type": "markdown",
   "id": "bdcd3f8c",
   "metadata": {},
   "source": [
    "- **Float (float):** Represents real numbers with a decimal point."
   ]
  },
  {
   "cell_type": "code",
   "execution_count": null,
   "id": "8644e1b4",
   "metadata": {},
   "outputs": [
    {
     "name": "stdout",
     "output_type": "stream",
     "text": [
      "3.14\n"
     ]
    },
    {
     "data": {
      "text/plain": [
       "float"
      ]
     },
     "execution_count": 12,
     "metadata": {},
     "output_type": "execute_result"
    }
   ],
   "source": [
    "# Declaring varible for Floating numbers\n",
    "Float_variable = 3.14\n",
    "\n",
    "print(Float_variable)\n",
    "type(Float_variable)"
   ]
  },
  {
   "cell_type": "markdown",
   "id": "f2452960",
   "metadata": {},
   "source": [
    "- **Complex (complex):** Represents numbers with a real and imaginary part. It's written as a + bj, where a and b are floats and j represents the imaginary unit."
   ]
  },
  {
   "cell_type": "code",
   "execution_count": null,
   "id": "8510f8b3",
   "metadata": {},
   "outputs": [
    {
     "name": "stdout",
     "output_type": "stream",
     "text": [
      "(3+4j)\n"
     ]
    },
    {
     "data": {
      "text/plain": [
       "complex"
      ]
     },
     "execution_count": 13,
     "metadata": {},
     "output_type": "execute_result"
    }
   ],
   "source": [
    "# Declaring varible for Complex numbers\n",
    "Complex_variable = 3 + 4j\n",
    "\n",
    "print(Complex_variable)\n",
    "type(Complex_variable)"
   ]
  },
  {
   "cell_type": "markdown",
   "id": "66b87b85",
   "metadata": {},
   "source": [
    "Non-Numerical Data Types:\n",
    "\n",
    "- **String (str):** Represents a sequence of characters enclosed within single quotes (') or double quotes (\")."
   ]
  },
  {
   "cell_type": "code",
   "execution_count": 24,
   "id": "9863fb72",
   "metadata": {},
   "outputs": [
    {
     "name": "stdout",
     "output_type": "stream",
     "text": [
      "Hello Python\n"
     ]
    },
    {
     "data": {
      "text/plain": [
       "str"
      ]
     },
     "execution_count": 24,
     "metadata": {},
     "output_type": "execute_result"
    }
   ],
   "source": [
    "# Declaring varible for String\n",
    "String_variable = \"Hello Python\"\n",
    "\n",
    "print(String_variable)\n",
    "type(String_variable)"
   ]
  },
  {
   "cell_type": "markdown",
   "id": "9bb1aae4",
   "metadata": {},
   "source": [
    "- **Boolean (bool):** Represents a logical value indicating either True or False (0 or 1)."
   ]
  },
  {
   "cell_type": "code",
   "execution_count": null,
   "id": "7d1997d8",
   "metadata": {},
   "outputs": [
    {
     "name": "stdout",
     "output_type": "stream",
     "text": [
      "True\n"
     ]
    },
    {
     "data": {
      "text/plain": [
       "bool"
      ]
     },
     "execution_count": 19,
     "metadata": {},
     "output_type": "execute_result"
    }
   ],
   "source": [
    "# Declaring varible for Boolean\n",
    "Boolean_variable = True  # or bool(1)\n",
    "\n",
    "print(Boolean_variable)\n",
    "type(Boolean_variable)"
   ]
  },
  {
   "cell_type": "markdown",
   "id": "59efed40",
   "metadata": {},
   "source": [
    "- **List (list):** Represents an ordered collection of elements enclosed within square brackets ([]). Lists can contain elements of different data types."
   ]
  },
  {
   "cell_type": "code",
   "execution_count": null,
   "id": "15a43888",
   "metadata": {},
   "outputs": [
    {
     "name": "stdout",
     "output_type": "stream",
     "text": [
      "[1, 2, 3, 4.5, 5.55, 'A', 'B', 'C']\n"
     ]
    },
    {
     "data": {
      "text/plain": [
       "list"
      ]
     },
     "execution_count": 23,
     "metadata": {},
     "output_type": "execute_result"
    }
   ],
   "source": [
    "# Creating a list \n",
    "List_variable = [1,2,3,4.5,5.55,\"A\",\"B\",\"C\",]\n",
    "\n",
    "print(List_variable)\n",
    "type(List_variable)"
   ]
  },
  {
   "cell_type": "code",
   "execution_count": null,
   "id": "7a7dacee",
   "metadata": {},
   "outputs": [
    {
     "data": {
      "text/plain": [
       "1"
      ]
     },
     "execution_count": 26,
     "metadata": {},
     "output_type": "execute_result"
    }
   ],
   "source": [
    "# Read value for a list\n",
    "List_variable[0] # First element (indexing)"
   ]
  },
  {
   "cell_type": "code",
   "execution_count": null,
   "id": "f7e2ced0",
   "metadata": {},
   "outputs": [
    {
     "name": "stdout",
     "output_type": "stream",
     "text": [
      "[1, 8, 3, 4.5, 5.55, 'A', 'B', 'C']\n"
     ]
    }
   ],
   "source": [
    "# Change/Update the item in the list\n",
    "List_variable[1] = 8\n",
    "\n",
    "print(List_variable)\n"
   ]
  },
  {
   "cell_type": "markdown",
   "id": "9079b362",
   "metadata": {},
   "source": [
    "- **Tuple (tuple):** Similar to lists, but they are immutable, meaning their **elements cannot be changed after creation**. Tuples are enclosed within parentheses ()."
   ]
  },
  {
   "cell_type": "code",
   "execution_count": 25,
   "id": "7f776e57",
   "metadata": {},
   "outputs": [
    {
     "name": "stdout",
     "output_type": "stream",
     "text": [
      "(1, 2, 3, 4.5, 5.55, 'A', 'B', 'C', 1)\n"
     ]
    },
    {
     "data": {
      "text/plain": [
       "tuple"
      ]
     },
     "execution_count": 25,
     "metadata": {},
     "output_type": "execute_result"
    }
   ],
   "source": [
    "# Creating a Tuple\n",
    "Tuple_variable = (1,2,3,4.5,5.55,\"A\",\"B\",\"C\",1)\n",
    "\n",
    "print(Tuple_variable)\n",
    "type(Tuple_variable)"
   ]
  },
  {
   "cell_type": "code",
   "execution_count": null,
   "id": "5b32cc46",
   "metadata": {},
   "outputs": [
    {
     "data": {
      "text/plain": [
       "3"
      ]
     },
     "execution_count": 27,
     "metadata": {},
     "output_type": "execute_result"
    }
   ],
   "source": [
    "# Read value for a list\n",
    "Tuple_variable[2]"
   ]
  },
  {
   "cell_type": "code",
   "execution_count": 21,
   "id": "0e508c92",
   "metadata": {},
   "outputs": [
    {
     "name": "stdout",
     "output_type": "stream",
     "text": [
      "(1, 2, 3, 4.5, 5.55, 'A', 'B', 'C', 1, 1, 1)\n",
      "(1, 2, 3, 4.5, 5.55, 'A', 'B', 'C', 1, 1, 1, 8)\n"
     ]
    }
   ],
   "source": [
    "# Tuple can hav multiple same values in it\n",
    "Tuple_variable = (1,2,3,4.5,5.55,\"A\",\"B\",\"C\",1,1,1)\n",
    "print(Tuple_variable)\n",
    "\n",
    "# Tuple values cannot be changed\n",
    "#Tuple_variable[1] = 8\n"
   ]
  },
  {
   "cell_type": "markdown",
   "id": "70686877",
   "metadata": {},
   "source": [
    "\n",
    "The fundamental distinction between tuples and lists lies in their unique characteristics. Tuples, unlike lists, enforce **immutability**, meaning once created, their elements cannot be altered. \n"
   ]
  },
  {
   "cell_type": "markdown",
   "id": "8635b958",
   "metadata": {},
   "source": [
    "- Sets in Python are collections of unique elements, meaning they do not allow multiple occurrences of the same value. Each element in a set must be unique, and sets are defined using curly braces {} or the set() function."
   ]
  },
  {
   "cell_type": "code",
   "execution_count": 3,
   "id": "edc5b6e5",
   "metadata": {},
   "outputs": [
    {
     "data": {
      "text/plain": [
       "set"
      ]
     },
     "execution_count": 3,
     "metadata": {},
     "output_type": "execute_result"
    }
   ],
   "source": [
    "# Creating a SET variable\n",
    "\n",
    "Set_variable = {1,2,3,4.5,5.55,\"A\",\"B\",\"C\"}\n",
    "type(Set_variable)"
   ]
  },
  {
   "cell_type": "code",
   "execution_count": 23,
   "id": "b70a72ee",
   "metadata": {},
   "outputs": [
    {
     "name": "stdout",
     "output_type": "stream",
     "text": [
      "{1, 2, 3, 4.5, 5.55, 'A', 'B', 'C'}\n",
      "[1, 2, 3, 4.5, 5.55, 'A', 'B', 'C']\n"
     ]
    }
   ],
   "source": [
    "# Set does not support indexing\n",
    "#Set_variable[1]\n",
    "\n",
    "#set does not support slicing\n",
    "#Set_variable[1:3]\n",
    "\n",
    "# set does not supprt multiple occurance of the same value\n",
    "Set_variable = {1,2,3,4.5,5.55,\"A\",\"B\",\"C\",1,1,1}\n",
    "print(Set_variable)\n",
    "\n",
    "# set values cannot be changed\n",
    "#Set_variable[1] = 8\n",
    "\n",
    "# set can use to remove the duplicates values in a list\n",
    "List_variable = [1,2,3,4.5,5.55,\"A\",\"B\",\"C\",1,1,1]\n",
    "Set_variable = set(List_variable)\n",
    "print(list(Set_variable))"
   ]
  },
  {
   "cell_type": "markdown",
   "id": "ef853d1f",
   "metadata": {},
   "source": [
    "- **Dictionary** is a collection of key-value pairs, where each key is unique and is used to store and retrieve corresponding values. Dictionaries are defined using curly braces {}, with keys and values separated by a colon :"
   ]
  },
  {
   "cell_type": "code",
   "execution_count": 17,
   "id": "d5a0b4da",
   "metadata": {},
   "outputs": [
    {
     "name": "stdout",
     "output_type": "stream",
     "text": [
      "{'key1': 'value1', 'key2': 'value2', 'key3': 'value3'}\n"
     ]
    }
   ],
   "source": [
    "# Creating a dictionary variable\n",
    "dict_variable = {\"key1\":\"value1\",\"key2\":\"value2\",\"key3\":\"value3\"}\n",
    "\n",
    "type(dict_variable)\n",
    "print(dict_variable)"
   ]
  },
  {
   "cell_type": "code",
   "execution_count": 20,
   "id": "471e626e",
   "metadata": {},
   "outputs": [
    {
     "data": {
      "text/plain": [
       "'value1'"
      ]
     },
     "execution_count": 20,
     "metadata": {},
     "output_type": "execute_result"
    }
   ],
   "source": [
    "# Accessing value using key\n",
    "dict_variable[\"key1\"]"
   ]
  },
  {
   "cell_type": "markdown",
   "id": "d1ede5f6",
   "metadata": {},
   "source": [
    "- Table of Differnt Between **Lists**, **Sets** and **Tuples**\n",
    "\n",
    "| Feature                              | Lists                               | Sets                                   | Tuples                               |\n",
    "|:-------------------------------------|:------------------------------------|:---------------------------------------|:-------------------------------------|\n",
    "| Mutability                           | Mutable                             | Mutable                                | Immutable                            |\n",
    "| Order                                | Ordered                             | Unordered                              | Ordered                              |\n",
    "| Changeability of Items               | Items can be replaced or changed    | Items cannot be changed or replaced, but can be added or removed | Items cannot be changed or replaced after creation |\n",
    "| Duplication of Items                 | Allows duplicate items              | Does not allow duplicate items         | Allows duplicate items                |\n",
    "| Syntax                               | Defined with square brackets `[ ]`  | Defined with curly braces `{ }` or `set()` function | Defined with parentheses `( )`       |\n",
    "| Example                              | `my_list = [1, 2, 3]`               | `my_set = {1, 2, 3}`                   | `my_tuple = (1, 2, 3)`                |\n"
   ]
  }
 ],
 "metadata": {
  "kernelspec": {
   "display_name": "Python 3 (ipykernel)",
   "language": "python",
   "name": "python3"
  },
  "language_info": {
   "codemirror_mode": {
    "name": "ipython",
    "version": 3
   },
   "file_extension": ".py",
   "mimetype": "text/x-python",
   "name": "python",
   "nbconvert_exporter": "python",
   "pygments_lexer": "ipython3",
   "version": "3.12.3"
  }
 },
 "nbformat": 4,
 "nbformat_minor": 5
}
