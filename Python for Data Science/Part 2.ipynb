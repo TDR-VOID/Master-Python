{
 "cells": [
  {
   "cell_type": "markdown",
   "metadata": {},
   "source": [
    "# **Python**\n",
    "\n",
    "### Part 2"
   ]
  },
  {
   "cell_type": "markdown",
   "metadata": {},
   "source": [
    "## Conditions"
   ]
  },
  {
   "cell_type": "markdown",
   "metadata": {},
   "source": [
    "In Python, conditions and logic are used to control the flow of the program. They allow you to execute certain blocks of code based on specific conditions, making your programs more dynamic and responsive to different inputs and situations. The primary tools for implementing conditions and logic are if, elif, and else statements. These statements evaluate expressions and execute code blocks accordingly:\n",
    "\n",
    "- if statement: Executes a block of code if the specified condition is true.\n",
    "- elif statement: Stands for \"else if,\" and allows you to check multiple conditions sequentially.\n",
    "- else statement: Executes a block of code if none of the preceding conditions are true.\n",
    "\n",
    "\n",
    "Logical operators (and, or, not) are often used to combine multiple conditions or to negate conditions. These tools are essential for creating complex decision-making processes within your programs."
   ]
  },
  {
   "cell_type": "markdown",
   "metadata": {},
   "source": [
    "### IF Statement "
   ]
  },
  {
   "cell_type": "code",
   "execution_count": 4,
   "metadata": {},
   "outputs": [
    {
     "name": "stdout",
     "output_type": "stream",
     "text": [
      "x is equal to 5\n",
      "y is greater than 10\n"
     ]
    }
   ],
   "source": [
    "# IF Statement Example\n",
    "\n",
    "x = 5\n",
    "y = 10\n",
    "\n",
    "if x == 5:\n",
    "    print(\"x is equal to 5\")\n",
    "\n",
    "if y != 10:\n",
    "    print(\"y is not equal to 10\")\n",
    "\n",
    "if y > 8:\n",
    "    print(\"y is greater than 10\")"
   ]
  },
  {
   "cell_type": "markdown",
   "metadata": {},
   "source": [
    "\"=\" (Assignment Operator): This operator is used to assign a value to a variable.\n",
    "\n",
    "\"==\" (Equality Operator): This operator is used to compare two values to check if they are equal"
   ]
  },
  {
   "cell_type": "markdown",
   "metadata": {},
   "source": [
    "### Elif & Else Statement"
   ]
  },
  {
   "cell_type": "code",
   "execution_count": 5,
   "metadata": {},
   "outputs": [
    {
     "name": "stdout",
     "output_type": "stream",
     "text": [
      "You are an adult\n"
     ]
    }
   ],
   "source": [
    "# IF, ELIF and ELSE Statement Example\n",
    "\n",
    "age = 20\n",
    "\n",
    "if age < 18:\n",
    "    print(\"You are a minor\")\n",
    "elif age == 18:\n",
    "    print(\"You are 18\")\n",
    "else:\n",
    "    print(\"You are an adult\")"
   ]
  },
  {
   "cell_type": "code",
   "execution_count": 9,
   "metadata": {},
   "outputs": [
    {
     "name": "stdout",
     "output_type": "stream",
     "text": [
      "Temprature is high\n"
     ]
    }
   ],
   "source": [
    "# IF, ELIF and ELSE Statement Example\n",
    "\n",
    "temprature = 30\n",
    "\n",
    "if temprature > 25 & temprature != 25:\n",
    "    print(\"Temprature is high\")\n",
    "elif temprature == 25:\n",
    "    print(\"Temprature is normal\")\n",
    "else:\n",
    "    print(\"Please check your temprature\")"
   ]
  },
  {
   "cell_type": "markdown",
   "metadata": {},
   "source": [
    "### IN Statement"
   ]
  },
  {
   "cell_type": "markdown",
   "metadata": {},
   "source": [
    "The \"in\" statement in Python is used to check if a value exists within an iterable, such as a list, tuple, string, or dictionary. It is a powerful and concise way to perform membership tests and is commonly used in conditional statements and loops."
   ]
  },
  {
   "cell_type": "code",
   "execution_count": 15,
   "metadata": {},
   "outputs": [
    {
     "data": {
      "text/plain": [
       "True"
      ]
     },
     "execution_count": 15,
     "metadata": {},
     "output_type": "execute_result"
    }
   ],
   "source": [
    "# IN Statement Example\n",
    "\n",
    "list1 = [\"Apple\",\"Orange\",3,4,5,6,7,8]\n",
    "\"Orange\" in list"
   ]
  },
  {
   "cell_type": "code",
   "execution_count": 17,
   "metadata": {},
   "outputs": [
    {
     "name": "stdout",
     "output_type": "stream",
     "text": [
      "Yes\n"
     ]
    }
   ],
   "source": [
    "if 3 in list1:\n",
    "    print(\"Yes\")"
   ]
  },
  {
   "cell_type": "markdown",
   "metadata": {},
   "source": [
    "## Loops"
   ]
  },
  {
   "cell_type": "markdown",
   "metadata": {},
   "source": [
    "Loops in Python are used to execute a block of code repeatedly until a certain condition is met. They are a fundamental concept in programming, enabling you to perform repetitive tasks efficiently. Python provides two main types of loops: **for loops** and **while loops.**"
   ]
  },
  {
   "cell_type": "markdown",
   "metadata": {},
   "source": [
    "### \"for\" Loop"
   ]
  },
  {
   "cell_type": "markdown",
   "metadata": {},
   "source": [
    "The **for loop** in Python is used to iterate over a sequence (such as a list, tuple, string, or range). It allows you to execute a block of code for each item in the sequence."
   ]
  },
  {
   "cell_type": "code",
   "execution_count": 3,
   "metadata": {},
   "outputs": [
    {
     "name": "stdout",
     "output_type": "stream",
     "text": [
      "Apple\n",
      "Orange\n",
      "3\n",
      "4\n",
      "5\n",
      "6\n",
      "7\n",
      "8\n"
     ]
    }
   ],
   "source": [
    "# For Loop Example\n",
    "\n",
    "list1 = [\"Apple\",\"Orange\",3,4,5,6,7,8]\n",
    "for items in list1:\n",
    "    print(items)"
   ]
  },
  {
   "cell_type": "code",
   "execution_count": 10,
   "metadata": {},
   "outputs": [
    {
     "name": "stdout",
     "output_type": "stream",
     "text": [
      "Items not found\n",
      "Orange\n",
      "3\n",
      "4\n",
      "Items not found\n",
      "Items not found\n",
      "Items not found\n",
      "Items not found\n"
     ]
    }
   ],
   "source": [
    "# For Loop Example with condition\n",
    "\n",
    "list1 = [\"Apple\",\"Orange\",3,4,5,6,7,8]\n",
    "for items in list1:\n",
    "    if items == \"Orange\":\n",
    "        print(items)\n",
    "    elif items == 3:\n",
    "        print(items)\n",
    "    elif items == 4:\n",
    "        print(items)\n",
    "    else:\n",
    "        print(\"Items not found\")            \n",
    " \n",
    "        "
   ]
  },
  {
   "cell_type": "markdown",
   "metadata": {},
   "source": [
    "**break** , **continue** & **pass** Statements in Loops\n",
    "\n",
    "In Python, the break and continue statements are used to control the flow of loops (for and while loops). These statements allow you to manage the execution of loops more effectively.\n",
    "\n",
    "- break: Immediately exits the loop, terminating further iterations.\n",
    "- continue: Skips the current iteration and moves to the next iteration of the loop.\n",
    "- pass: Does nothing when executed but is useful to define empty code blocks where code is syntactically required.\n"
   ]
  },
  {
   "cell_type": "markdown",
   "metadata": {},
   "source": [
    "1. **break** Statement\n",
    "\n",
    "The break statement is used to immediately exit the loop, regardless of the loop's condition. When a break statement is encountered, the loop stops, and the program continues with the next statement after the loop."
   ]
  },
  {
   "cell_type": "code",
   "execution_count": 31,
   "metadata": {},
   "outputs": [
    {
     "name": "stdout",
     "output_type": "stream",
     "text": [
      "0\n",
      "1\n",
      "2\n",
      "3\n",
      "4\n"
     ]
    }
   ],
   "source": [
    "for number in range(10):\n",
    "    if number == 5:\n",
    "        break  # Exit the loop when number is 5\n",
    "    print(number)\n",
    "\n",
    "\n",
    "# In this example, the loop prints numbers from 0 to 4. When number reaches 5, the break statement terminates the loop."
   ]
  },
  {
   "cell_type": "markdown",
   "metadata": {},
   "source": [
    "2. **continue** Statement\n",
    "\n",
    "The continue statement is used to skip the current iteration of the loop and proceed to the next iteration. When a continue statement is encountered, the remaining code inside the loop is skipped for the current iteration, and the loop proceeds with the next iteration"
   ]
  },
  {
   "cell_type": "code",
   "execution_count": 29,
   "metadata": {},
   "outputs": [
    {
     "name": "stdout",
     "output_type": "stream",
     "text": [
      "1\n",
      "3\n",
      "5\n",
      "7\n",
      "9\n"
     ]
    }
   ],
   "source": [
    "for number in range(10):\n",
    "    if number % 2 == 0:\n",
    "        continue  # Skip the rest of the loop body for even numbers\n",
    "    print(number)\n",
    "\n",
    "# In this example, the loop prints only the odd numbers from 1 to 9. When number is even, the continue statement skips the print statement and proceeds to the next iteration."
   ]
  },
  {
   "cell_type": "markdown",
   "metadata": {},
   "source": [
    "Examples"
   ]
  },
  {
   "cell_type": "code",
   "execution_count": 14,
   "metadata": {},
   "outputs": [
    {
     "name": "stdout",
     "output_type": "stream",
     "text": [
      "Items not found\n",
      "Orange\n",
      "3\n"
     ]
    }
   ],
   "source": [
    "# Add break statement in for loop\n",
    "\n",
    "list1 = [\"Apple\",\"Orange\",3,4,5,6,7,8]\n",
    "for items in list1:\n",
    "    if items == \"Orange\":\n",
    "        print(items)\n",
    "    elif items == 3:\n",
    "        print(items)\n",
    "        break\n",
    "\n",
    "    elif items == 4:\n",
    "        print(items)\n",
    "    else:\n",
    "        print(\"Items not found\")\n",
    "\n",
    "    # break statement stops the loop when the condition is met"
   ]
  },
  {
   "cell_type": "code",
   "execution_count": 30,
   "metadata": {},
   "outputs": [
    {
     "name": "stdout",
     "output_type": "stream",
     "text": [
      "Items not found\n",
      "Orange\n",
      "3\n"
     ]
    }
   ],
   "source": [
    "# Add continue statement in for loop\n",
    "list1 = [\"Apple\",\"Orange\",3,4,5,6,7,8]\n",
    "for items in list1:\n",
    "    if items == \"Orange\":\n",
    "        print(items)\n",
    "        continue\n",
    "    if items == \"Orange\":\n",
    "        print(\"Orange second time\")\n",
    "    elif items == 3:\n",
    "        print(items)\n",
    "        break\n",
    "\n",
    "    elif items == 4:\n",
    "        print(items)\n",
    "    else:\n",
    "        print(\"Items not found\")\n",
    "\n",
    "\n",
    "\"\"\"\n",
    "If we remove the continue statement the output will be,\n",
    "\n",
    "Items not found\n",
    "Orange\n",
    "Orange second time\n",
    "3\n",
    "\"\"\";\n"
   ]
  },
  {
   "cell_type": "markdown",
   "metadata": {},
   "source": [
    "3. **pass** Statement\n",
    "\n",
    "The pass statement in Python is used as a placeholder for future code. It is a null operation; when the pass statement is executed, nothing happens, but it is syntactically required. The pass statement is useful in situations where code is syntactically required but you have not yet written the code."
   ]
  },
  {
   "cell_type": "code",
   "execution_count": 32,
   "metadata": {},
   "outputs": [
    {
     "name": "stdout",
     "output_type": "stream",
     "text": [
      "Pass\n",
      "Orange\n",
      "Pass\n",
      "Pass\n",
      "Pass\n",
      "Pass\n",
      "Pass\n",
      "Pass\n"
     ]
    }
   ],
   "source": [
    "# Add pass statement in for loop\n",
    "\n",
    "list1 = [\"Apple\",\"Orange\",3,4,5,6,7,8]\n",
    "for items in list1:\n",
    "    if items == \"Orange\":\n",
    "        print(items)\n",
    "    else:\n",
    "        pass\n",
    "        print(\"Pass\")"
   ]
  },
  {
   "cell_type": "markdown",
   "metadata": {},
   "source": [
    "For loop with range function"
   ]
  },
  {
   "cell_type": "code",
   "execution_count": 33,
   "metadata": {},
   "outputs": [
    {
     "name": "stdout",
     "output_type": "stream",
     "text": [
      "0\n",
      "1\n",
      "2\n",
      "3\n",
      "4\n",
      "5\n",
      "6\n",
      "7\n",
      "8\n",
      "9\n"
     ]
    }
   ],
   "source": [
    "for number in range(10):\n",
    "    print(number)"
   ]
  },
  {
   "cell_type": "code",
   "execution_count": 37,
   "metadata": {},
   "outputs": [
    {
     "name": "stdout",
     "output_type": "stream",
     "text": [
      "2\n",
      "3\n",
      "4\n",
      "5\n",
      "6\n",
      "7\n",
      "8\n",
      "9\n",
      "10\n"
     ]
    }
   ],
   "source": [
    "# Add limit to the range\n",
    "for number in range(2, 11):\n",
    "    print(number)"
   ]
  },
  {
   "cell_type": "markdown",
   "metadata": {},
   "source": [
    "### \"while\" Loop"
   ]
  },
  {
   "cell_type": "markdown",
   "metadata": {},
   "source": [
    "The **while loop** in Python executes a block of code as long as a specified condition is true. It is particularly useful when the number of iterations is not known beforehand."
   ]
  },
  {
   "cell_type": "markdown",
   "metadata": {},
   "source": [
    "2 16"
   ]
  }
 ],
 "metadata": {
  "kernelspec": {
   "display_name": "Python 3",
   "language": "python",
   "name": "python3"
  },
  "language_info": {
   "codemirror_mode": {
    "name": "ipython",
    "version": 3
   },
   "file_extension": ".py",
   "mimetype": "text/x-python",
   "name": "python",
   "nbconvert_exporter": "python",
   "pygments_lexer": "ipython3",
   "version": "3.12.3"
  }
 },
 "nbformat": 4,
 "nbformat_minor": 2
}
