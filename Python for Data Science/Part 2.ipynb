{
 "cells": [
  {
   "cell_type": "markdown",
   "metadata": {},
   "source": [
    "# **Python**\n",
    "\n",
    "### Part 2"
   ]
  },
  {
   "cell_type": "markdown",
   "metadata": {},
   "source": [
    "## Conditions and Loops"
   ]
  },
  {
   "cell_type": "markdown",
   "metadata": {},
   "source": [
    "In Python, conditions and logic are used to control the flow of the program. They allow you to execute certain blocks of code based on specific conditions, making your programs more dynamic and responsive to different inputs and situations. The primary tools for implementing conditions and logic are if, elif, and else statements. These statements evaluate expressions and execute code blocks accordingly:\n",
    "\n",
    "- if statement: Executes a block of code if the specified condition is true.\n",
    "- elif statement: Stands for \"else if,\" and allows you to check multiple conditions sequentially.\n",
    "- else statement: Executes a block of code if none of the preceding conditions are true.\n",
    "\n",
    "\n",
    "Logical operators (and, or, not) are often used to combine multiple conditions or to negate conditions. These tools are essential for creating complex decision-making processes within your programs."
   ]
  },
  {
   "cell_type": "markdown",
   "metadata": {},
   "source": [
    "### IF Statement "
   ]
  },
  {
   "cell_type": "code",
   "execution_count": 4,
   "metadata": {},
   "outputs": [
    {
     "name": "stdout",
     "output_type": "stream",
     "text": [
      "x is equal to 5\n",
      "y is greater than 10\n"
     ]
    }
   ],
   "source": [
    "# IF Statement Example\n",
    "\n",
    "x = 5\n",
    "y = 10\n",
    "\n",
    "if x == 5:\n",
    "    print(\"x is equal to 5\")\n",
    "\n",
    "if y != 10:\n",
    "    print(\"y is not equal to 10\")\n",
    "\n",
    "if y > 8:\n",
    "    print(\"y is greater than 10\")"
   ]
  },
  {
   "cell_type": "markdown",
   "metadata": {},
   "source": [
    "\"=\" (Assignment Operator): This operator is used to assign a value to a variable.\n",
    "\n",
    "\"==\" (Equality Operator): This operator is used to compare two values to check if they are equal"
   ]
  },
  {
   "cell_type": "markdown",
   "metadata": {},
   "source": [
    "### Elif & Else Statement"
   ]
  },
  {
   "cell_type": "code",
   "execution_count": 5,
   "metadata": {},
   "outputs": [
    {
     "name": "stdout",
     "output_type": "stream",
     "text": [
      "You are an adult\n"
     ]
    }
   ],
   "source": [
    "# IF, ELIF and ELSE Statement Example\n",
    "\n",
    "age = 20\n",
    "\n",
    "if age < 18:\n",
    "    print(\"You are a minor\")\n",
    "elif age == 18:\n",
    "    print(\"You are 18\")\n",
    "else:\n",
    "    print(\"You are an adult\")"
   ]
  },
  {
   "cell_type": "code",
   "execution_count": 9,
   "metadata": {},
   "outputs": [
    {
     "name": "stdout",
     "output_type": "stream",
     "text": [
      "Temprature is high\n"
     ]
    }
   ],
   "source": [
    "# IF, ELIF and ELSE Statement Example\n",
    "\n",
    "temprature = 30\n",
    "\n",
    "if temprature > 25 & temprature != 25:\n",
    "    print(\"Temprature is high\")\n",
    "elif temprature == 25:\n",
    "    print(\"Temprature is normal\")\n",
    "else:\n",
    "    print(\"Please check your temprature\")"
   ]
  },
  {
   "cell_type": "markdown",
   "metadata": {},
   "source": [
    "### IN Statement"
   ]
  },
  {
   "cell_type": "markdown",
   "metadata": {},
   "source": [
    "The \"in\" statement in Python is used to check if a value exists within an iterable, such as a list, tuple, string, or dictionary. It is a powerful and concise way to perform membership tests and is commonly used in conditional statements and loops."
   ]
  },
  {
   "cell_type": "code",
   "execution_count": 15,
   "metadata": {},
   "outputs": [
    {
     "data": {
      "text/plain": [
       "True"
      ]
     },
     "execution_count": 15,
     "metadata": {},
     "output_type": "execute_result"
    }
   ],
   "source": [
    "# IN Statement Example\n",
    "\n",
    "list1 = [\"Apple\",\"Orange\",3,4,5,6,7,8]\n",
    "\"Orange\" in list"
   ]
  },
  {
   "cell_type": "code",
   "execution_count": 17,
   "metadata": {},
   "outputs": [
    {
     "name": "stdout",
     "output_type": "stream",
     "text": [
      "Yes\n"
     ]
    }
   ],
   "source": [
    "if 3 in list1:\n",
    "    print(\"Yes\")"
   ]
  },
  {
   "cell_type": "markdown",
   "metadata": {},
   "source": [
    "## Loops"
   ]
  },
  {
   "cell_type": "code",
   "execution_count": null,
   "metadata": {},
   "outputs": [],
   "source": []
  },
  {
   "cell_type": "code",
   "execution_count": null,
   "metadata": {},
   "outputs": [],
   "source": []
  },
  {
   "cell_type": "code",
   "execution_count": null,
   "metadata": {},
   "outputs": [],
   "source": []
  },
  {
   "cell_type": "markdown",
   "metadata": {},
   "source": []
  }
 ],
 "metadata": {
  "kernelspec": {
   "display_name": "Python 3",
   "language": "python",
   "name": "python3"
  },
  "language_info": {
   "codemirror_mode": {
    "name": "ipython",
    "version": 3
   },
   "file_extension": ".py",
   "mimetype": "text/x-python",
   "name": "python",
   "nbconvert_exporter": "python",
   "pygments_lexer": "ipython3",
   "version": "3.12.3"
  }
 },
 "nbformat": 4,
 "nbformat_minor": 2
}
