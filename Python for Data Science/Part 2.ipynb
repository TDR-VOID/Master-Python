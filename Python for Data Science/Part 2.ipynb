{
 "cells": [
  {
   "cell_type": "markdown",
   "metadata": {},
   "source": [
    "# **Python**\n",
    "\n",
    "### Part 2"
   ]
  },
  {
   "cell_type": "markdown",
   "metadata": {},
   "source": [
    "## Conditions"
   ]
  },
  {
   "cell_type": "markdown",
   "metadata": {},
   "source": [
    "In Python, conditions and logic are used to control the flow of the program. They allow you to execute certain blocks of code based on specific conditions, making your programs more dynamic and responsive to different inputs and situations. The primary tools for implementing conditions and logic are if, elif, and else statements. These statements evaluate expressions and execute code blocks accordingly:\n",
    "\n",
    "- if statement: Executes a block of code if the specified condition is true.\n",
    "- elif statement: Stands for \"else if,\" and allows you to check multiple conditions sequentially.\n",
    "- else statement: Executes a block of code if none of the preceding conditions are true.\n",
    "\n",
    "\n",
    "Logical operators (and, or, not) are often used to combine multiple conditions or to negate conditions. These tools are essential for creating complex decision-making processes within your programs."
   ]
  },
  {
   "cell_type": "markdown",
   "metadata": {},
   "source": [
    "### IF Statement "
   ]
  },
  {
   "cell_type": "code",
   "execution_count": null,
   "metadata": {},
   "outputs": [],
   "source": [
    "# IF Statement Example\n",
    "\n",
    "x = 5\n",
    "y = 10\n",
    "\n",
    "if x == 5:\n",
    "    print(\"x is equal to 5\")\n",
    "\n",
    "if y != 10:\n",
    "    print(\"y is not equal to 10\")\n",
    "\n",
    "if y > 8:\n",
    "    print(\"y is greater than 10\")"
   ]
  },
  {
   "cell_type": "markdown",
   "metadata": {},
   "source": [
    "\"=\" (Assignment Operator): This operator is used to assign a value to a variable.\n",
    "\n",
    "\"==\" (Equality Operator): This operator is used to compare two values to check if they are equal"
   ]
  },
  {
   "cell_type": "markdown",
   "metadata": {},
   "source": [
    "### Elif & Else Statement"
   ]
  },
  {
   "cell_type": "code",
   "execution_count": null,
   "metadata": {},
   "outputs": [],
   "source": [
    "# IF, ELIF and ELSE Statement Example\n",
    "\n",
    "age = 20\n",
    "\n",
    "if age < 18:\n",
    "    print(\"You are a minor\")\n",
    "elif age == 18:\n",
    "    print(\"You are 18\")\n",
    "else:\n",
    "    print(\"You are an adult\")"
   ]
  },
  {
   "cell_type": "code",
   "execution_count": null,
   "metadata": {},
   "outputs": [],
   "source": [
    "# IF, ELIF and ELSE Statement Example\n",
    "\n",
    "temprature = 30\n",
    "\n",
    "if temprature > 25 & temprature != 25:\n",
    "    print(\"Temprature is high\")\n",
    "elif temprature == 25:\n",
    "    print(\"Temprature is normal\")\n",
    "else:\n",
    "    print(\"Please check your temprature\")"
   ]
  },
  {
   "cell_type": "markdown",
   "metadata": {},
   "source": [
    "### IN Statement"
   ]
  },
  {
   "cell_type": "markdown",
   "metadata": {},
   "source": [
    "The \"in\" statement in Python is used to check if a value exists within an iterable, such as a list, tuple, string, or dictionary. It is a powerful and concise way to perform membership tests and is commonly used in conditional statements and loops."
   ]
  },
  {
   "cell_type": "code",
   "execution_count": null,
   "metadata": {},
   "outputs": [],
   "source": [
    "# IN Statement Example\n",
    "\n",
    "list1 = [\"Apple\",\"Orange\",3,4,5,6,7,8]\n",
    "\"Orange\" in list"
   ]
  },
  {
   "cell_type": "code",
   "execution_count": null,
   "metadata": {},
   "outputs": [],
   "source": [
    "if 3 in list1:\n",
    "    print(\"Yes\")"
   ]
  },
  {
   "cell_type": "markdown",
   "metadata": {},
   "source": [
    "## Loops"
   ]
  },
  {
   "cell_type": "markdown",
   "metadata": {},
   "source": [
    "Loops in Python are used to execute a block of code repeatedly until a certain condition is met. They are a fundamental concept in programming, enabling you to perform repetitive tasks efficiently. Python provides two main types of loops: **for loops** and **while loops.**"
   ]
  },
  {
   "cell_type": "markdown",
   "metadata": {},
   "source": [
    "### \"for\" Loop"
   ]
  },
  {
   "cell_type": "markdown",
   "metadata": {},
   "source": [
    "The **for loop** in Python is used to iterate over a sequence (such as a list, tuple, string, or range). It allows you to execute a block of code for each item in the sequence."
   ]
  },
  {
   "cell_type": "code",
   "execution_count": null,
   "metadata": {},
   "outputs": [],
   "source": [
    "# For Loop Example\n",
    "\n",
    "list1 = [\"Apple\",\"Orange\",3,4,5,6,7,8]\n",
    "for items in list1:\n",
    "    print(items)"
   ]
  },
  {
   "cell_type": "code",
   "execution_count": 56,
   "metadata": {},
   "outputs": [
    {
     "name": "stdout",
     "output_type": "stream",
     "text": [
      "key1\n",
      "key2\n",
      "key3\n",
      "\n",
      "\n",
      "value1\n",
      "value2\n",
      "value3\n"
     ]
    }
   ],
   "source": [
    "# Print keys and values in a dictionary using for loop\n",
    "\n",
    "dict1 = {\"key1\":\"value1\",\"key2\":\"value2\",\"key3\":\"value3\"}\n",
    "\n",
    "# Print keys\n",
    "for keys in dict1.keys():\n",
    "    print(keys)\n",
    "\n",
    "print(\"\\n\") # Print new line\n",
    "\n",
    "# Print values\n",
    "for values in dict1.values():\n",
    "    print(values)\n"
   ]
  },
  {
   "cell_type": "code",
   "execution_count": 58,
   "metadata": {},
   "outputs": [
    {
     "name": "stdout",
     "output_type": "stream",
     "text": [
      "\n",
      "\n",
      "Key: key1 - Value: value1\n",
      "Key: key2 - Value: value2\n",
      "Key: key3 - Value: value3\n"
     ]
    }
   ],
   "source": [
    "dict1.items()\n",
    "# items returns a list of tuples\n",
    "\n",
    "print(\"\\n\")\n",
    "\n",
    "# Print keys and values\n",
    "for keys, values in dict1.items():\n",
    "    print(\"Key: {} - Value: {}\".format(keys, values))"
   ]
  },
  {
   "cell_type": "code",
   "execution_count": 65,
   "metadata": {},
   "outputs": [
    {
     "name": "stdout",
     "output_type": "stream",
     "text": [
      "['Apple', 'Orange', 'Mangoes', 'Pineapple']\n"
     ]
    }
   ],
   "source": [
    "# List comprehension using title function\n",
    "\n",
    "list1 = [\"apple\",\"orange\",\"mangoes\",\"pineapple\"]\n",
    "list2 = [items.title() for items in list1]\n",
    "print(list2)\n",
    "\n",
    "# title capitalizes the first letter of each word\n",
    "# only works with strings"
   ]
  },
  {
   "cell_type": "code",
   "execution_count": null,
   "metadata": {},
   "outputs": [],
   "source": [
    "# For Loop Example with condition\n",
    "\n",
    "list1 = [\"Apple\",\"Orange\",3,4,5,6,7,8]\n",
    "for items in list1:\n",
    "    if items == \"Orange\":\n",
    "        print(items)\n",
    "    elif items == 3:\n",
    "        print(items)\n",
    "    elif items == 4:\n",
    "        print(items)\n",
    "    else:\n",
    "        print(\"Items not found\")            \n",
    " \n",
    "        "
   ]
  },
  {
   "cell_type": "markdown",
   "metadata": {},
   "source": [
    "**break** , **continue** & **pass** Statements in Loops\n",
    "\n",
    "In Python, the break and continue statements are used to control the flow of loops (for and while loops). These statements allow you to manage the execution of loops more effectively.\n",
    "\n",
    "- break: Immediately exits the loop, terminating further iterations.\n",
    "- continue: Skips the current iteration and moves to the next iteration of the loop.\n",
    "- pass: Does nothing when executed but is useful to define empty code blocks where code is syntactically required.\n"
   ]
  },
  {
   "cell_type": "markdown",
   "metadata": {},
   "source": [
    "1. **break** Statement\n",
    "\n",
    "The break statement is used to immediately exit the loop, regardless of the loop's condition. When a break statement is encountered, the loop stops, and the program continues with the next statement after the loop."
   ]
  },
  {
   "cell_type": "code",
   "execution_count": null,
   "metadata": {},
   "outputs": [],
   "source": [
    "for number in range(10):\n",
    "    if number == 5:\n",
    "        break  # Exit the loop when number is 5\n",
    "    print(number)\n",
    "\n",
    "\n",
    "# In this example, the loop prints numbers from 0 to 4. When number reaches 5, the break statement terminates the loop."
   ]
  },
  {
   "cell_type": "markdown",
   "metadata": {},
   "source": [
    "2. **continue** Statement\n",
    "\n",
    "The continue statement is used to skip the current iteration of the loop and proceed to the next iteration. When a continue statement is encountered, the remaining code inside the loop is skipped for the current iteration, and the loop proceeds with the next iteration"
   ]
  },
  {
   "cell_type": "code",
   "execution_count": null,
   "metadata": {},
   "outputs": [],
   "source": [
    "for number in range(10):\n",
    "    if number % 2 == 0:\n",
    "        continue  # Skip the rest of the loop body for even numbers\n",
    "    print(number)\n",
    "\n",
    "# In this example, the loop prints only the odd numbers from 1 to 9. When number is even, the continue statement skips the print statement and proceeds to the next iteration."
   ]
  },
  {
   "cell_type": "markdown",
   "metadata": {},
   "source": [
    "Examples"
   ]
  },
  {
   "cell_type": "code",
   "execution_count": null,
   "metadata": {},
   "outputs": [],
   "source": [
    "# Add break statement in for loop\n",
    "\n",
    "list1 = [\"Apple\",\"Orange\",3,4,5,6,7,8]\n",
    "for items in list1:\n",
    "    if items == \"Orange\":\n",
    "        print(items)\n",
    "    elif items == 3:\n",
    "        print(items)\n",
    "        break\n",
    "\n",
    "    elif items == 4:\n",
    "        print(items)\n",
    "    else:\n",
    "        print(\"Items not found\")\n",
    "\n",
    "    # break statement stops the loop when the condition is met"
   ]
  },
  {
   "cell_type": "code",
   "execution_count": null,
   "metadata": {},
   "outputs": [],
   "source": [
    "# Add continue statement in for loop\n",
    "list1 = [\"Apple\",\"Orange\",3,4,5,6,7,8]\n",
    "for items in list1:\n",
    "    if items == \"Orange\":\n",
    "        print(items)\n",
    "        continue\n",
    "    if items == \"Orange\":\n",
    "        print(\"Orange second time\")\n",
    "    elif items == 3:\n",
    "        print(items)\n",
    "        break\n",
    "\n",
    "    elif items == 4:\n",
    "        print(items)\n",
    "    else:\n",
    "        print(\"Items not found\")\n",
    "\n",
    "\n",
    "\"\"\"\n",
    "If we remove the continue statement the output will be,\n",
    "\n",
    "Items not found\n",
    "Orange\n",
    "Orange second time\n",
    "3\n",
    "\"\"\";\n"
   ]
  },
  {
   "cell_type": "markdown",
   "metadata": {},
   "source": [
    "3. **pass** Statement\n",
    "\n",
    "The pass statement in Python is used as a placeholder for future code. It is a null operation; when the pass statement is executed, nothing happens, but it is syntactically required. The pass statement is useful in situations where code is syntactically required but you have not yet written the code."
   ]
  },
  {
   "cell_type": "code",
   "execution_count": null,
   "metadata": {},
   "outputs": [],
   "source": [
    "# Add pass statement in for loop\n",
    "\n",
    "list1 = [\"Apple\",\"Orange\",3,4,5,6,7,8]\n",
    "for items in list1:\n",
    "    if items == \"Orange\":\n",
    "        print(items)\n",
    "    else:\n",
    "        pass\n",
    "        print(\"Pass\")"
   ]
  },
  {
   "cell_type": "markdown",
   "metadata": {},
   "source": [
    "For loop with range function"
   ]
  },
  {
   "cell_type": "code",
   "execution_count": null,
   "metadata": {},
   "outputs": [],
   "source": [
    "for number in range(10):\n",
    "    print(number)"
   ]
  },
  {
   "cell_type": "code",
   "execution_count": null,
   "metadata": {},
   "outputs": [],
   "source": [
    "# Add limit to the range\n",
    "for number in range(2, 11):\n",
    "    print(number)"
   ]
  },
  {
   "cell_type": "markdown",
   "metadata": {},
   "source": [
    "### \"while\" Loop"
   ]
  },
  {
   "cell_type": "markdown",
   "metadata": {},
   "source": [
    "The **while loop** in Python executes a block of code as long as a specified condition is true. It is particularly useful when the number of iterations is not known beforehand."
   ]
  },
  {
   "cell_type": "code",
   "execution_count": 51,
   "metadata": {},
   "outputs": [
    {
     "name": "stdout",
     "output_type": "stream",
     "text": [
      "Number of count: 0 ...\n",
      "Number of count: 1 ...\n",
      "Number of count: 2 ...\n",
      "Number of count: 3 ...\n",
      "Number of count: 4 ...\n",
      "Number of count: 5 ...\n",
      "Number of count: 6 ...\n",
      "Number of count: 7 ...\n",
      "Number of count: 8 ...\n",
      "Number of count: 9 ...\n",
      "Max count reached\n"
     ]
    }
   ],
   "source": [
    "# Example for while True\n",
    "count = 0\n",
    "max_count = 10\n",
    "\n",
    "while True:\n",
    "    print(\"Number of count: {} ...\".format(count))\n",
    "    count += 1\n",
    "    if count == max_count:\n",
    "        print(\"Max count reached\")\n",
    "        break\n"
   ]
  },
  {
   "cell_type": "code",
   "execution_count": 1,
   "metadata": {},
   "outputs": [
    {
     "name": "stdout",
     "output_type": "stream",
     "text": [
      "Number of count: 0 ...\n",
      "Number of count: 1 ...\n",
      "Number of count: 2 ...\n",
      "Number of count: 3 ...\n",
      "Number of count: 4 ...\n",
      "Number of count: 5 ...\n",
      "Number of count: 6 ...\n",
      "Number of count: 7 ...\n",
      "Number of count: 8 ...\n",
      "Number of count: 9 ...\n"
     ]
    }
   ],
   "source": [
    "# Example for while loop with condition\n",
    "count = 0\n",
    "max_count = 10\n",
    "\n",
    "while count < max_count:\n",
    "    print(\"Number of count: {} ...\".format(count))\n",
    "    count += 1"
   ]
  },
  {
   "cell_type": "markdown",
   "metadata": {},
   "source": [
    "### Key Points: **for** Loop vs **while** Loop\n",
    "\n",
    "| Feature           | `for` Loop                                           | `while` Loop                                             |\n",
    "|:------------------|:-----------------------------------------------------|:---------------------------------------------------------|\n",
    "| **Purpose**       | Iterates over a sequence (e.g., list, tuple, string) | Repeats as long as a condition is true                   |\n",
    "| **Syntax**        | `for item in iterable:`                              | `while condition:`                                       |\n",
    "| **Use Case**      | When the number of iterations is known or finite     | When the number of iterations is unknown or condition-based |\n",
    "| **Initialization**| Implicitly handles initialization                    | Requires explicit initialization of the condition variable |\n",
    "| **Termination**   | Stops when the end of the sequence is reached        | Stops when the condition becomes false                   |\n",
    "| **Modification**  | Typically does not change the sequence during iteration | The condition variable can be modified within the loop    |\n",
    "| **Infinite Loop** | Rarely used for infinite loops                       | Commonly used for infinite loops with break condition    |\n",
    "| **Control**       | Can use `break`, `continue`, and `else`              | Can use `break`, `continue`, and `else`                  |\n",
    "| **Example**       | `for x in range(5): print(x)`                        | `while x < 5: print(x); x += 1`                          |\n"
   ]
  }
 ],
 "metadata": {
  "kernelspec": {
   "display_name": "Python 3",
   "language": "python",
   "name": "python3"
  },
  "language_info": {
   "codemirror_mode": {
    "name": "ipython",
    "version": 3
   },
   "file_extension": ".py",
   "mimetype": "text/x-python",
   "name": "python",
   "nbconvert_exporter": "python",
   "pygments_lexer": "ipython3",
   "version": "3.12.3"
  }
 },
 "nbformat": 4,
 "nbformat_minor": 2
}
