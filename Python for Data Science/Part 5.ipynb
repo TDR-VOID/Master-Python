{
 "cells": [
  {
   "cell_type": "markdown",
   "metadata": {},
   "source": [
    "# **Python**\n",
    "\n",
    "### Part 5"
   ]
  },
  {
   "cell_type": "markdown",
   "metadata": {},
   "source": [
    "## Modules"
   ]
  },
  {
   "cell_type": "markdown",
   "metadata": {},
   "source": [
    "Python modules are collections of Python functions and classes. Modules allow you to organize your code logically and can be reused in multiple programs. By grouping related code into a module, you can make your programs easier to manage and maintain.\n",
    "\n",
    "Key Points:\n",
    "\n",
    "Creation: A module is simply a Python file with a .py extension. For example, my_module.py.\n",
    "\n",
    "Importing: You can use the import statement to include the module's content into your script. For example, import my_module.\n",
    "\n",
    "Using Functions/Classes: Once imported, you can access the functions, classes, and variables defined in the module using dot notation. For example, my_module.my_function().\n",
    "\n",
    "Standard Library Modules: Python comes with a vast standard library of modules that you can use out-of-the-box, such as math, sys, os, and many more.\n",
    "\n",
    "Third-Party Modules: You can also install third-party modules using package managers like pip. These modules are hosted on the Python Package Index (PyPI)."
   ]
  },
  {
   "cell_type": "code",
   "execution_count": null,
   "metadata": {},
   "outputs": [],
   "source": [
    "# Import \"Module+Example.py\" module\n",
    "\n",
    "from Module_Example import add"
   ]
  }
 ],
 "metadata": {
  "kernelspec": {
   "display_name": "Python 3",
   "language": "python",
   "name": "python3"
  },
  "language_info": {
   "codemirror_mode": {
    "name": "ipython",
    "version": 3
   },
   "file_extension": ".py",
   "mimetype": "text/x-python",
   "name": "python",
   "nbconvert_exporter": "python",
   "pygments_lexer": "ipython3",
   "version": "3.12.3"
  }
 },
 "nbformat": 4,
 "nbformat_minor": 2
}
