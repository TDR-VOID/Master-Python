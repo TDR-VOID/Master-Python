{
 "cells": [
  {
   "cell_type": "markdown",
   "metadata": {},
   "source": [
    "# **Python**\n",
    "\n",
    "### Part 5"
   ]
  },
  {
   "cell_type": "markdown",
   "metadata": {},
   "source": [
    "## Modules"
   ]
  },
  {
   "cell_type": "markdown",
   "metadata": {},
   "source": [
    "Python modules are collections of Python functions and classes. Modules allow you to organize your code logically and can be reused in multiple programs. By grouping related code into a module, you can make your programs easier to manage and maintain.\n",
    "\n",
    "Key Points:\n",
    "\n",
    "Creation: A module is simply a Python file with a .py extension. For example, my_module.py.\n",
    "\n",
    "Importing: You can use the import statement to include the module's content into your script. For example, import my_module.\n",
    "\n",
    "Using Functions/Classes: Once imported, you can access the functions, classes, and variables defined in the module using dot notation. For example, my_module.my_function().\n",
    "\n",
    "Standard Library Modules: Python comes with a vast standard library of modules that you can use out-of-the-box, such as math, sys, os, and many more.\n",
    "\n",
    "Third-Party Modules: You can also install third-party modules using package managers like pip. These modules are hosted on the Python Package Index (PyPI)."
   ]
  },
  {
   "cell_type": "code",
   "execution_count": 1,
   "metadata": {},
   "outputs": [],
   "source": [
    "# Import \"Module+Example.py\" module\n",
    "\n",
    "from Module_Example import add"
   ]
  },
  {
   "cell_type": "code",
   "execution_count": 2,
   "metadata": {},
   "outputs": [
    {
     "data": {
      "text/plain": [
       "2"
      ]
     },
     "execution_count": 2,
     "metadata": {},
     "output_type": "execute_result"
    }
   ],
   "source": [
    "# Call the function from the module\n",
    "\n",
    "add(2, 0)"
   ]
  },
  {
   "cell_type": "markdown",
   "metadata": {},
   "source": [
    "## Packages"
   ]
  },
  {
   "cell_type": "markdown",
   "metadata": {},
   "source": [
    "A package in Python is a way of organizing related modules into a directory hierarchy. It allows you to structure your Python project in a more organized manner, especially when your project grows in size and complexity. Packages help you manage the namespace by grouping related modules together, making it easier to locate and use them.\n"
   ]
  },
  {
   "cell_type": "code",
   "execution_count": 3,
   "metadata": {},
   "outputs": [
    {
     "name": "stdout",
     "output_type": "stream",
     "text": [
      "Requirement already satisfied: requests in c:\\users\\hp\\appdata\\local\\programs\\python\\python312\\lib\\site-packages (2.32.3)\n",
      "Requirement already satisfied: charset-normalizer<4,>=2 in c:\\users\\hp\\appdata\\local\\programs\\python\\python312\\lib\\site-packages (from requests) (3.3.2)\n",
      "Requirement already satisfied: idna<4,>=2.5 in c:\\users\\hp\\appdata\\local\\programs\\python\\python312\\lib\\site-packages (from requests) (3.7)\n",
      "Requirement already satisfied: urllib3<3,>=1.21.1 in c:\\users\\hp\\appdata\\local\\programs\\python\\python312\\lib\\site-packages (from requests) (2.2.2)\n",
      "Requirement already satisfied: certifi>=2017.4.17 in c:\\users\\hp\\appdata\\local\\programs\\python\\python312\\lib\\site-packages (from requests) (2024.6.2)\n",
      "Note: you may need to restart the kernel to use updated packages.\n"
     ]
    }
   ],
   "source": [
    "# Install \"requests\" module\n",
    "\n",
    "%pip install requests"
   ]
  },
  {
   "cell_type": "code",
   "execution_count": 4,
   "metadata": {},
   "outputs": [
    {
     "name": "stdout",
     "output_type": "stream",
     "text": [
      "Package                Version\n",
      "---------------------- -----------\n",
      "asttokens              2.4.1\n",
      "certifi                2024.6.2\n",
      "charset-normalizer     3.3.2\n",
      "colorama               0.4.6\n",
      "comm                   0.2.2\n",
      "debugpy                1.8.1\n",
      "decorator              5.1.1\n",
      "executing              2.0.1\n",
      "idna                   3.7\n",
      "ipykernel              6.29.4\n",
      "ipython                8.25.0\n",
      "jedi                   0.19.1\n",
      "jupyter_client         8.6.2\n",
      "jupyter_core           5.7.2\n",
      "lxml                   5.2.2\n",
      "matplotlib-inline      0.1.7\n",
      "mysql-connector-python 8.4.0\n",
      "nest-asyncio           1.6.0\n",
      "packaging              24.0\n",
      "parso                  0.8.4\n",
      "pillow                 10.3.0\n",
      "pip                    24.0\n",
      "platformdirs           4.2.2\n",
      "prompt_toolkit         3.0.46\n",
      "psutil                 5.9.8\n",
      "pure-eval              0.2.2\n",
      "pygame                 2.5.2\n",
      "Pygments               2.18.0\n",
      "pyserial               3.5\n",
      "python-dateutil        2.9.0.post0\n",
      "python-pptx            0.6.23\n",
      "pywin32                306\n",
      "pyzmq                  26.0.3\n",
      "requests               2.32.3\n",
      "six                    1.16.0\n",
      "stack-data             0.6.3\n",
      "tornado                6.4.1\n",
      "traitlets              5.14.3\n",
      "urllib3                2.2.2\n",
      "wcwidth                0.2.13\n",
      "XlsxWriter             3.2.0\n",
      "Note: you may need to restart the kernel to use updated packages.\n"
     ]
    }
   ],
   "source": [
    "# List all installed packages\n",
    "\n",
    "%pip list"
   ]
  },
  {
   "cell_type": "code",
   "execution_count": 5,
   "metadata": {},
   "outputs": [],
   "source": [
    "# Import \"requests\" module\n",
    "\n",
    "import requests"
   ]
  },
  {
   "cell_type": "code",
   "execution_count": 6,
   "metadata": {},
   "outputs": [
    {
     "name": "stdout",
     "output_type": "stream",
     "text": [
      "Help on function get in module requests.api:\n",
      "\n",
      "get(url, params=None, **kwargs)\n",
      "    Sends a GET request.\n",
      "\n",
      "    :param url: URL for the new :class:`Request` object.\n",
      "    :param params: (optional) Dictionary, list of tuples or bytes to send\n",
      "        in the query string for the :class:`Request`.\n",
      "    :param \\*\\*kwargs: Optional arguments that ``request`` takes.\n",
      "    :return: :class:`Response <Response>` object\n",
      "    :rtype: requests.Response\n",
      "\n"
     ]
    }
   ],
   "source": [
    "# get documentation for the function\n",
    "help(requests.get)"
   ]
  },
  {
   "cell_type": "code",
   "execution_count": 7,
   "metadata": {},
   "outputs": [
    {
     "data": {
      "text/plain": [
       "<Response [200]>"
      ]
     },
     "execution_count": 7,
     "metadata": {},
     "output_type": "execute_result"
    }
   ],
   "source": [
    "# call the function from the module\n",
    "\n",
    "requests.get(\"https://www.google.com\")"
   ]
  },
  {
   "cell_type": "markdown",
   "metadata": {},
   "source": [
    "## File Handling"
   ]
  },
  {
   "cell_type": "markdown",
   "metadata": {},
   "source": [
    "### Writing Files"
   ]
  },
  {
   "cell_type": "markdown",
   "metadata": {},
   "source": [
    "The `with` Statement in File Handling\n",
    "\n",
    "The `with` statement in Python is used for resource management and exception handling. It is particularly useful in file handling to ensure that files are properly closed after their operations are completed, even if an error occurs during the operation. This approach helps in managing resources more efficiently and avoiding potential memory leaks."
   ]
  },
  {
   "cell_type": "code",
   "execution_count": null,
   "metadata": {},
   "outputs": [],
   "source": [
    "help(open)"
   ]
  },
  {
   "cell_type": "code",
   "execution_count": 9,
   "metadata": {},
   "outputs": [],
   "source": [
    "# Write a file\n",
    "\n",
    "with open(\"Example.txt\", \"w\") as f:\n",
    "    f.write(\"Hello Python ! \\nThis is example text written using Python file handling.\")"
   ]
  },
  {
   "cell_type": "code",
   "execution_count": 10,
   "metadata": {},
   "outputs": [
    {
     "name": "stdout",
     "output_type": "stream",
     "text": [
      "Hello Python ! \n",
      "This is example text written using Python file handling.\n"
     ]
    }
   ],
   "source": [
    "# Read a file\n",
    "\n",
    "with open(\"Example.txt\", \"r\") as f:\n",
    "    text = f.read()\n",
    "    print(text)"
   ]
  },
  {
   "cell_type": "code",
   "execution_count": 11,
   "metadata": {},
   "outputs": [],
   "source": [
    "# Delete a file\n",
    "\n",
    "file_path = \"Example.txt\"\n",
    "\n",
    "import os\n",
    "os.remove(file_path)\n",
    "\n"
   ]
  },
  {
   "cell_type": "markdown",
   "metadata": {},
   "source": [
    "## Error Handling"
   ]
  },
  {
   "cell_type": "markdown",
   "metadata": {},
   "source": [
    "Error handling in Python is accomplished through the use of `try`, `except`, `else`, and `finally` blocks. These constructs help manage exceptions, allowing your program to continue running or to gracefully terminate when an error occurs. Proper error handling ensures that your code is robust and can handle unexpected situations without crashing."
   ]
  },
  {
   "cell_type": "code",
   "execution_count": 12,
   "metadata": {},
   "outputs": [
    {
     "name": "stdout",
     "output_type": "stream",
     "text": [
      "Error: division by zero\n",
      "Execution complete\n"
     ]
    }
   ],
   "source": [
    "# \"try\" and \"except\" statements\n",
    "\n",
    "try:\n",
    "    # Code that may raise an exception\n",
    "    result = 10 / 0\n",
    "except ZeroDivisionError as e:\n",
    "    # Handle the specific exception\n",
    "    print(f\"Error: {e}\")\n",
    "else:\n",
    "    # Execute if no exception was raised\n",
    "    print(\"Operation successful\")\n",
    "finally:\n",
    "    # Execute regardless of whether an exception occurred or not\n",
    "    print(\"Execution complete\")\n"
   ]
  },
  {
   "cell_type": "code",
   "execution_count": 7,
   "metadata": {},
   "outputs": [
    {
     "ename": "TypeError",
     "evalue": "'set' object is not subscriptable",
     "output_type": "error",
     "traceback": [
      "\u001b[1;31m---------------------------------------------------------------------------\u001b[0m",
      "\u001b[1;31mTypeError\u001b[0m                                 Traceback (most recent call last)",
      "Cell \u001b[1;32mIn[7], line 8\u001b[0m\n\u001b[0;32m      4\u001b[0m set_num \u001b[38;5;241m=\u001b[39m {\u001b[38;5;241m0\u001b[39m, \u001b[38;5;241m10\u001b[39m, \u001b[38;5;241m20\u001b[39m, \u001b[38;5;241m30\u001b[39m, \u001b[38;5;241m40\u001b[39m, \u001b[38;5;241m50\u001b[39m, \u001b[38;5;241m60\u001b[39m, \u001b[38;5;241m70\u001b[39m, \u001b[38;5;241m80\u001b[39m, \u001b[38;5;241m90\u001b[39m, \u001b[38;5;241m100\u001b[39m}\n\u001b[0;32m      6\u001b[0m \u001b[38;5;28;01mtry\u001b[39;00m:\n\u001b[0;32m      7\u001b[0m     \u001b[38;5;66;03m# Try to access an index that is out of range\u001b[39;00m\n\u001b[1;32m----> 8\u001b[0m     \u001b[38;5;28mprint\u001b[39m(\u001b[43mset_num\u001b[49m\u001b[43m[\u001b[49m\u001b[38;5;241;43m12\u001b[39;49m\u001b[43m]\u001b[49m)\n\u001b[0;32m      9\u001b[0m \u001b[38;5;28;01mexcept\u001b[39;00m \u001b[38;5;167;01mIndexError\u001b[39;00m \u001b[38;5;28;01mas\u001b[39;00m e:\n\u001b[0;32m     10\u001b[0m     \u001b[38;5;66;03m# Handle the specific exception\u001b[39;00m\n\u001b[0;32m     11\u001b[0m     \u001b[38;5;28mprint\u001b[39m(\u001b[38;5;124mf\u001b[39m\u001b[38;5;124m\"\u001b[39m\u001b[38;5;124mError: \u001b[39m\u001b[38;5;132;01m{\u001b[39;00me\u001b[38;5;132;01m}\u001b[39;00m\u001b[38;5;124m\"\u001b[39m)\n",
      "\u001b[1;31mTypeError\u001b[0m: 'set' object is not subscriptable"
     ]
    }
   ],
   "source": [
    "# multiple \"try\" and \"except\" statements\n",
    "\n",
    "# Example\n",
    "set_num = {0, 10, 20, 30, 40, 50, 60, 70, 80, 90, 100}\n",
    "\n",
    "try:\n",
    "    # Try to access an index that is out of range\n",
    "    print(set_num[12])\n",
    "except IndexError as e:\n",
    "    # Handle the specific exception\n",
    "    print(f\"Error: {e}\")\n"
   ]
  },
  {
   "cell_type": "code",
   "execution_count": null,
   "metadata": {},
   "outputs": [],
   "source": []
  }
 ],
 "metadata": {
  "kernelspec": {
   "display_name": "Python 3",
   "language": "python",
   "name": "python3"
  },
  "language_info": {
   "codemirror_mode": {
    "name": "ipython",
    "version": 3
   },
   "file_extension": ".py",
   "mimetype": "text/x-python",
   "name": "python",
   "nbconvert_exporter": "python",
   "pygments_lexer": "ipython3",
   "version": "3.12.3"
  }
 },
 "nbformat": 4,
 "nbformat_minor": 2
}
