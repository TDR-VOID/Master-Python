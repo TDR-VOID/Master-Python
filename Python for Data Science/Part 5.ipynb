{
 "cells": [
  {
   "cell_type": "markdown",
   "metadata": {},
   "source": [
    "# **Python**\n",
    "\n",
    "### Part 5"
   ]
  },
  {
   "cell_type": "markdown",
   "metadata": {},
   "source": [
    "## Modules"
   ]
  },
  {
   "cell_type": "markdown",
   "metadata": {},
   "source": [
    "Python modules are collections of Python functions and classes. Modules allow you to organize your code logically and can be reused in multiple programs. By grouping related code into a module, you can make your programs easier to manage and maintain.\n",
    "\n",
    "Key Points:\n",
    "\n",
    "Creation: A module is simply a Python file with a .py extension. For example, my_module.py.\n",
    "\n",
    "Importing: You can use the import statement to include the module's content into your script. For example, import my_module.\n",
    "\n",
    "Using Functions/Classes: Once imported, you can access the functions, classes, and variables defined in the module using dot notation. For example, my_module.my_function().\n",
    "\n",
    "Standard Library Modules: Python comes with a vast standard library of modules that you can use out-of-the-box, such as math, sys, os, and many more.\n",
    "\n",
    "Third-Party Modules: You can also install third-party modules using package managers like pip. These modules are hosted on the Python Package Index (PyPI)."
   ]
  },
  {
   "cell_type": "code",
   "execution_count": 3,
   "metadata": {},
   "outputs": [],
   "source": [
    "# Import \"Module+Example.py\" module\n",
    "\n",
    "from Module_Example import add"
   ]
  },
  {
   "cell_type": "code",
   "execution_count": 4,
   "metadata": {},
   "outputs": [
    {
     "data": {
      "text/plain": [
       "2"
      ]
     },
     "execution_count": 4,
     "metadata": {},
     "output_type": "execute_result"
    }
   ],
   "source": [
    "# Call the function from the module\n",
    "\n",
    "add(2, 0)"
   ]
  },
  {
   "cell_type": "markdown",
   "metadata": {},
   "source": [
    "## Packages"
   ]
  },
  {
   "cell_type": "markdown",
   "metadata": {},
   "source": [
    "A package in Python is a way of organizing related modules into a directory hierarchy. It allows you to structure your Python project in a more organized manner, especially when your project grows in size and complexity. Packages help you manage the namespace by grouping related modules together, making it easier to locate and use them.\n"
   ]
  },
  {
   "cell_type": "code",
   "execution_count": null,
   "metadata": {},
   "outputs": [],
   "source": [
    "# Install \"requests\" module\n",
    "\n",
    "%pip install requests"
   ]
  },
  {
   "cell_type": "code",
   "execution_count": 8,
   "metadata": {},
   "outputs": [
    {
     "name": "stdout",
     "output_type": "stream",
     "text": [
      "Package                Version\n",
      "---------------------- -----------\n",
      "asttokens              2.4.1\n",
      "certifi                2024.6.2\n",
      "charset-normalizer     3.3.2\n",
      "colorama               0.4.6\n",
      "comm                   0.2.2\n",
      "debugpy                1.8.1\n",
      "decorator              5.1.1\n",
      "executing              2.0.1\n",
      "idna                   3.7\n",
      "ipykernel              6.29.4\n",
      "ipython                8.25.0\n",
      "jedi                   0.19.1\n",
      "jupyter_client         8.6.2\n",
      "jupyter_core           5.7.2\n",
      "lxml                   5.2.2\n",
      "matplotlib-inline      0.1.7\n",
      "mysql-connector-python 8.4.0\n",
      "nest-asyncio           1.6.0\n",
      "packaging              24.0\n",
      "parso                  0.8.4\n",
      "pillow                 10.3.0\n",
      "pip                    24.0\n",
      "platformdirs           4.2.2\n",
      "prompt_toolkit         3.0.46\n",
      "psutil                 5.9.8\n",
      "pure-eval              0.2.2\n",
      "pygame                 2.5.2\n",
      "Pygments               2.18.0\n",
      "pyserial               3.5\n",
      "python-dateutil        2.9.0.post0\n",
      "python-pptx            0.6.23\n",
      "pywin32                306\n",
      "pyzmq                  26.0.3\n",
      "requests               2.32.3\n",
      "six                    1.16.0\n",
      "stack-data             0.6.3\n",
      "tornado                6.4.1\n",
      "traitlets              5.14.3\n",
      "urllib3                2.2.2\n",
      "wcwidth                0.2.13\n",
      "XlsxWriter             3.2.0\n",
      "Note: you may need to restart the kernel to use updated packages.\n"
     ]
    }
   ],
   "source": [
    "# List all installed packages\n",
    "\n",
    "%pip list"
   ]
  },
  {
   "cell_type": "code",
   "execution_count": 9,
   "metadata": {},
   "outputs": [],
   "source": [
    "# Import \"requests\" module\n",
    "\n",
    "import requests"
   ]
  },
  {
   "cell_type": "code",
   "execution_count": 11,
   "metadata": {},
   "outputs": [
    {
     "name": "stdout",
     "output_type": "stream",
     "text": [
      "Help on function get in module requests.api:\n",
      "\n",
      "get(url, params=None, **kwargs)\n",
      "    Sends a GET request.\n",
      "\n",
      "    :param url: URL for the new :class:`Request` object.\n",
      "    :param params: (optional) Dictionary, list of tuples or bytes to send\n",
      "        in the query string for the :class:`Request`.\n",
      "    :param \\*\\*kwargs: Optional arguments that ``request`` takes.\n",
      "    :return: :class:`Response <Response>` object\n",
      "    :rtype: requests.Response\n",
      "\n"
     ]
    }
   ],
   "source": [
    "# get documentation for the function\n",
    "help(requests.get)"
   ]
  },
  {
   "cell_type": "code",
   "execution_count": 19,
   "metadata": {},
   "outputs": [
    {
     "data": {
      "text/plain": [
       "<Response [200]>"
      ]
     },
     "execution_count": 19,
     "metadata": {},
     "output_type": "execute_result"
    }
   ],
   "source": [
    "# call the function from the module\n",
    "\n",
    "requests.get(\"https://www.google.com\")"
   ]
  },
  {
   "cell_type": "markdown",
   "metadata": {},
   "source": [
    "## File Handling"
   ]
  },
  {
   "cell_type": "markdown",
   "metadata": {},
   "source": [
    "### Writing Files"
   ]
  },
  {
   "cell_type": "markdown",
   "metadata": {},
   "source": [
    "The `with` Statement in File Handling\n",
    "\n",
    "The `with` statement in Python is used for resource management and exception handling. It is particularly useful in file handling to ensure that files are properly closed after their operations are completed, even if an error occurs during the operation. This approach helps in managing resources more efficiently and avoiding potential memory leaks."
   ]
  },
  {
   "cell_type": "code",
   "execution_count": null,
   "metadata": {},
   "outputs": [],
   "source": [
    "# Write a file\n",
    "\n",
    "with open(\"example.txt\", \"w\") as f:\n",
    "    f.write(\"Hello Python\")"
   ]
  }
 ],
 "metadata": {
  "kernelspec": {
   "display_name": "Python 3",
   "language": "python",
   "name": "python3"
  },
  "language_info": {
   "codemirror_mode": {
    "name": "ipython",
    "version": 3
   },
   "file_extension": ".py",
   "mimetype": "text/x-python",
   "name": "python",
   "nbconvert_exporter": "python",
   "pygments_lexer": "ipython3",
   "version": "3.12.3"
  }
 },
 "nbformat": 4,
 "nbformat_minor": 2
}
