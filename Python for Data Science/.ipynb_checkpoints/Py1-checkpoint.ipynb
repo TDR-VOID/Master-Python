{
 "cells": [
  {
   "cell_type": "code",
   "execution_count": 2,
   "id": "23f0f1ee",
   "metadata": {},
   "outputs": [
    {
     "name": "stdout",
     "output_type": "stream",
     "text": [
      "Hello Tharaka\n"
     ]
    }
   ],
   "source": [
    "print (\"Hello Tharaka\") # Print Function"
   ]
  },
  {
   "cell_type": "code",
   "execution_count": 2,
   "id": "eace69cc",
   "metadata": {},
   "outputs": [],
   "source": [
    "print?? # Doumentatio about the function"
   ]
  },
  {
   "cell_type": "code",
   "execution_count": null,
   "id": "c6699082",
   "metadata": {},
   "outputs": [],
   "source": []
  },
  {
   "cell_type": "code",
   "execution_count": null,
   "id": "b298bef0",
   "metadata": {},
   "outputs": [],
   "source": []
  },
  {
   "cell_type": "code",
   "execution_count": null,
   "id": "d3051aa4",
   "metadata": {},
   "outputs": [],
   "source": []
  }
 ],
 "metadata": {
  "kernelspec": {
   "display_name": "Python 3 (ipykernel)",
   "language": "python",
   "name": "python3"
  },
  "language_info": {
   "codemirror_mode": {
    "name": "ipython",
    "version": 3
   },
   "file_extension": ".py",
   "mimetype": "text/x-python",
   "name": "python",
   "nbconvert_exporter": "python",
   "pygments_lexer": "ipython3",
   "version": "3.11.4"
  }
 },
 "nbformat": 4,
 "nbformat_minor": 5
}
